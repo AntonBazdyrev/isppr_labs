{
 "cells": [
  {
   "cell_type": "code",
   "execution_count": 1,
   "id": "8be7949f-2a06-4f78-a66f-1ab2271307fc",
   "metadata": {
    "tags": []
   },
   "outputs": [],
   "source": [
    "import json\n",
    "import numpy as np\n",
    "\n",
    "def power_method(D):\n",
    "    x_prev = np.random.uniform(size=D.shape[0])\n",
    "    x_prev /= np.linalg.norm(x_prev)\n",
    "    \n",
    "    while True:\n",
    "        x_cur = D.dot(x_prev)\n",
    "        lam_cur = np.linalg.norm(x_cur)\n",
    "        x_cur /= np.linalg.norm(x_cur)\n",
    "\n",
    "        if np.linalg.norm(x_cur - x_prev) < 1e-5:\n",
    "            return x_cur / x_cur.sum(), lam_cur\n",
    "\n",
    "        x_prev = x_cur\n",
    "\n",
    "def compute_CR(lam_max, N):\n",
    "    CI = (lam_max - N) / (N-1)\n",
    "    MRCI = [0, 0, 0.52, 0.89, 1.11, 1.25, 1.35, 1.4, 1.45, 1.49, 1.52, 1.54, 1.56, 1.58, 1.59]\n",
    "    THRESH = [0, 0, 0.05, 0.08, 0.1, 0.1, 0.1, 0.1, 0.1, 0.1, 0.1, 0.1, 0.1, 0.1, 0.1]\n",
    "    CR = CI / MRCI[N-1]\n",
    "    thresh = THRESH[N-1]\n",
    "    if CR > thresh:\n",
    "        return f\"CR(={CR:.3f}) > {thresh} - МПП неузгоджена\"\n",
    "    elif CR > 0:\n",
    "        return f\"CR(={CR:.3f}) <= {thresh} - МПП допустимо узгоджена\"\n",
    "    else:\n",
    "        return f\"CR = 0.0 - МПП узгоджена\"\n",
    "\n",
    "def distributive_method(W_local, w_crits):\n",
    "    A = W_local\n",
    "    wC = w_crits\n",
    "    R = A / A.sum(0)\n",
    "    w_glob = (wC * R).sum(1)\n",
    "    return w_glob"
   ]
  },
  {
   "cell_type": "code",
   "execution_count": 2,
   "id": "36a63522-0ba4-4099-90c0-18e821846334",
   "metadata": {
    "tags": []
   },
   "outputs": [],
   "source": [
    "def solve(filename):\n",
    "    try:\n",
    "        with open(filename, \"r\") as fp:\n",
    "            problem_json = json.load(fp)\n",
    "    except Exception as exc:\n",
    "        print(exc)\n",
    "\n",
    "    p = problem_json[\"p\"]\n",
    "    m = problem_json[\"m\"]\n",
    "    w_crits = np.array([problem_json[\"wCrits\"]])\n",
    "    mpps = problem_json[\"MPPs\"]\n",
    "\n",
    "    strings = []\n",
    "    for i_hier in range(p-1):\n",
    "        strings += [f\"\\n-- Hierarchy level {i_hier + 2} --\"]\n",
    "        N, N = np.array(mpps[i_hier][0]).shape\n",
    "        M = len(mpps[i_hier])\n",
    "        W_local = np.empty((M, N))\n",
    "        for i_mpp, mpp in enumerate(mpps[i_hier]):\n",
    "            mpp = np.array(mpp)\n",
    "            strings += [str(mpp)]\n",
    "            w_local, lam_max = power_method(mpp)\n",
    "            strings += [compute_CR(lam_max, w_local.shape[0])]\n",
    "            W_local[i_mpp] = w_local\n",
    "        \n",
    "        w_global = distributive_method(W_local, w_crits)\n",
    "        w_crits = np.array([w_global])\n",
    "        strings += [f\"Global weights: {w_global}\"]\n",
    "    print(\"\\n\".join(strings))"
   ]
  },
  {
   "cell_type": "code",
   "execution_count": 3,
   "id": "679b4b34-db41-4852-83ae-4f93a11d47f8",
   "metadata": {
    "tags": []
   },
   "outputs": [
    {
     "name": "stdout",
     "output_type": "stream",
     "text": [
      "\n",
      "-- Hierarchy level 2 --\n",
      "[[1.    0.333 0.333 0.333]\n",
      " [3.    1.    1.    1.   ]\n",
      " [3.    1.    1.    0.666]\n",
      " [3.    1.    1.5   1.   ]]\n",
      "CR(=0.007) <= 0.08 - МПП допустимо узгоджена\n",
      "[[1.    0.333 0.666 0.333]\n",
      " [3.    1.    2.    1.   ]\n",
      " [1.5   0.5   1.    0.666]\n",
      " [3.    1.    1.5   1.   ]]\n",
      "CR(=0.003) <= 0.08 - МПП допустимо узгоджена\n",
      "[[1.    3.    1.    0.333]\n",
      " [0.333 1.    0.333 0.111]\n",
      " [1.    3.    1.    0.111]\n",
      " [3.    9.    9.    1.   ]]\n",
      "CR(=0.057) <= 0.08 - МПП допустимо узгоджена\n",
      "Global weights: [0.34861283 0.3487798  0.30260737]\n",
      "\n",
      "-- Hierarchy level 3 --\n",
      "[[1.    3.    5.   ]\n",
      " [0.333 1.    2.   ]\n",
      " [0.2   0.5   1.   ]]\n",
      "CR(=0.003) <= 0.05 - МПП допустимо узгоджена\n",
      "[[1.   4.   2.  ]\n",
      " [0.25 1.   0.5 ]\n",
      " [0.5  2.   1.  ]]\n",
      "CR(=0.000) <= 0.05 - МПП допустимо узгоджена\n",
      "[[1.    3.    5.   ]\n",
      " [0.333 1.    2.5  ]\n",
      " [0.2   0.4   1.   ]]\n",
      "CR(=0.017) <= 0.05 - МПП допустимо узгоджена\n",
      "Global weights: [0.32204152 0.35390303 0.32405545]\n"
     ]
    }
   ],
   "source": [
    "solve('./data/lab_1_sample_input.json')"
   ]
  },
  {
   "cell_type": "code",
   "execution_count": null,
   "id": "f1a7ae34-c3d6-4320-9a17-6c4fa881d410",
   "metadata": {},
   "outputs": [],
   "source": []
  }
 ],
 "metadata": {
  "kernelspec": {
   "display_name": "Python 3 (ipykernel)",
   "language": "python",
   "name": "python3"
  },
  "language_info": {
   "codemirror_mode": {
    "name": "ipython",
    "version": 3
   },
   "file_extension": ".py",
   "mimetype": "text/x-python",
   "name": "python",
   "nbconvert_exporter": "python",
   "pygments_lexer": "ipython3",
   "version": "3.11.5"
  }
 },
 "nbformat": 4,
 "nbformat_minor": 5
}
