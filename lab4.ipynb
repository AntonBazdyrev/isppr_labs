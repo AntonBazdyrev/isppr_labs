{
 "cells": [
  {
   "cell_type": "code",
   "execution_count": 1,
   "id": "6f1fc4d0-e079-411f-8add-45eff77c8ae1",
   "metadata": {
    "tags": []
   },
   "outputs": [],
   "source": [
    "import numpy as np\n",
    "import scipy\n",
    "\n",
    "\n",
    "def method_CI(A):\n",
    "    def calc_CI(A_trimmed):\n",
    "        N = A_trimmed.shape[0]\n",
    "        lam_max = np.linalg.eigvals(A_trimmed).max()\n",
    "        return (lam_max - N) / (N-1)\n",
    "     \n",
    "    def find_outlier(A):\n",
    "        CI_min = 1e10\n",
    "        i_lowest = None\n",
    "        j_lowest = None\n",
    "        for i in range(A.shape[0]):\n",
    "            for j in range(A.shape[1]):\n",
    "                CI = calc_CI(np.delete(np.delete(A, i, axis=0), j, axis=1))\n",
    "                if CI <= CI_min:\n",
    "                    CI_min = CI\n",
    "                    i_lowest = i\n",
    "                    j_lowest = j\n",
    "        return i_lowest, j_lowest\n",
    "    \n",
    "    i_lowest, j_lowest = find_outlier(A)\n",
    "    print(f\"method CI: Outlier is D{(i_lowest+1, j_lowest+1)} (one-based). value = {A[i_lowest, j_lowest]}\")\n",
    "\n",
    "\n",
    "def method_corr(A):\n",
    "    def find_outlier(A):\n",
    "        N = A.shape[0]\n",
    "        \n",
    "        corr = []\n",
    "        for i in range(A.shape[0]):\n",
    "            row_x = A[i]\n",
    "            std_x = np.std(row_x)\n",
    "            m_corr = 0\n",
    "            for i_y in range(A.shape[0]):\n",
    "                if i_y == i: continue\n",
    "                row_y = A[i_y]\n",
    "                std_y = np.std(row_y)\n",
    "                m_corr += 1.0 / (N - 1) * np.sum((row_x - row_x.mean()) * (row_y - row_y.mean())) / std_x / std_y \n",
    "            m_corr /= N - 1\n",
    "            corr.append(m_corr)\n",
    "        i_lowest = np.argmin(corr)\n",
    "        \n",
    "        corr = []\n",
    "        for j in range(A.shape[1]):\n",
    "            col_x = A[:, j]\n",
    "            std_x = np.std(col_x)\n",
    "            m_corr = 0\n",
    "            for j_y in range(A.shape[1]):\n",
    "                if j_y == j: continue\n",
    "                col_y = A[:, j_y]\n",
    "                std_y = np.std(col_y)\n",
    "                m_corr += 1.0 / (N - 1) * np.sum((col_x - col_x.mean()) * (col_y - col_y.mean())) / std_x / std_y \n",
    "            m_corr /= N - 1\n",
    "            corr.append(m_corr)\n",
    "        j_lowest = np.argmin(corr)\n",
    "            \n",
    "        return i_lowest, j_lowest\n",
    "    \n",
    "    i_lowest, j_lowest = find_outlier(A)\n",
    "    print(f\"method corr: Outlier is D{(i_lowest+1, j_lowest+1)} (one-based). value = {A[i_lowest, j_lowest]}\")\n",
    "\n",
    "\n",
    "def method_chi_sq(A):\n",
    "    N = A.shape[0]\n",
    "    Delta = np.empty((N, N))\n",
    "    for i in range(A.shape[0]):\n",
    "        for j in range(A.shape[1]):\n",
    "            t_ij = A[i,:].sum() * A[:,j].sum() / A.sum()\n",
    "            Delta[i,j] = (A[i,j] - t_ij)**2 / t_ij\n",
    "\n",
    "    delta_std = Delta.flatten().std()\n",
    "    delta_mean = Delta.mean()\n",
    "    print(\"method chi sq: Outliers are | \", end=\"\")\n",
    "    for i in range(N):\n",
    "        for j in range(N):\n",
    "            if Delta[i, j] > delta_mean + delta_std * 1.645 / np.sqrt(N):\n",
    "                print(f\"D{i+1, j+1} value = {A[i,j]} | \", end=\"\")\n",
    "    print()\n",
    "\n",
    "\n",
    "def method_transitive(A):\n",
    "    N = A.shape[0]\n",
    "    S = np.empty((N, N))\n",
    "    i_max = -1\n",
    "    j_max = -1\n",
    "    S_ij_max = float(\"-inf\")\n",
    "    for i in range(A.shape[0]):\n",
    "        for j in range(A.shape[1]):\n",
    "            S_ij = np.sum(A[i,j] * A[j, :] / A[i, :] + A[i,:] / A[i, j] / A[j, :] - 2)\n",
    "            if S_ij > S_ij_max:\n",
    "                S_ij_max = S_ij\n",
    "                i_max = i\n",
    "                j_max = j\n",
    "    print(f\"method Transitive: Outlier is D{(i_max+1, j_max+1)} (one-based). value = {A[i_max, j_max]}\")\n",
    "\n",
    "\n",
    "def method_M_OutFlow(A):\n",
    "    N = A.shape[0]\n",
    "    Phi_pos = np.empty(N)\n",
    "    Phi_neg = np.empty(N)\n",
    "    for i in range(A.shape[0]):\n",
    "        Phi_pos[i] = (A[i, :] > 1).sum()\n",
    "        Phi_neg[i] = (A[:, i] > 1).sum()\n",
    "\n",
    "    gamma_max = float(\"-inf\")\n",
    "    max_val = float(\"-inf\")\n",
    "    i_max = -1\n",
    "    j_max = -1\n",
    "\n",
    "    for i in range(A.shape[0]):\n",
    "        for j in range(A.shape[1]):\n",
    "            if A[i, j] <= 1: continue\n",
    "                \n",
    "            val = max(Phi_pos[j] - Phi_pos[i], Phi_neg[i] - Phi_neg[j])\n",
    "            gamma_ = np.log(A[i, j] - np.log(A[i, :] * A[:, j]))\n",
    "            mask = np.ones(gamma_.shape[0])\n",
    "            mask[i] = 0.0\n",
    "            mask[j] = 0.0\n",
    "            gamma = 1.0 / (N - 2.0) * np.sum(gamma_ * mask)\n",
    "            \n",
    "            \n",
    "            if val > max_val or (val == max_val and gamma >= gamma_max):\n",
    "                i_max = i\n",
    "                j_max = j\n",
    "                max_val = val\n",
    "                gamma_max = gamma\n",
    "\n",
    "    print(f\"method M_OutFlow: Outlier is D{(i_max+1, j_max+1)} (one-based). value = {A[i_max, j_max]}\")"
   ]
  },
  {
   "cell_type": "code",
   "execution_count": 2,
   "id": "506bacb4-b920-46ee-9007-f96685ebdf41",
   "metadata": {
    "tags": []
   },
   "outputs": [],
   "source": [
    "A = np.array([\n",
    "    [1.0, 1.0, 0.5, 4.0, 3.0, 0.333, 2.0],\n",
    "    [1.0, 1.0, 0.5, 4.0, 3.0, 0.333, 2.0],\n",
    "    [2.0, 7.0, 1.0, 8.0, 6.0, 0.5, 4.0],\n",
    "    [0.25, 0.25, 0.125, 1.0, 1.0, 7.0, 0.5],\n",
    "    [0.333, 0.333, 0.167, 1.0, 1.0, 0.111, 1.0],\n",
    "    [3.0, 3.0, 2.0, 0.142, 9.0, 1.0, 6.0],\n",
    "    [0.5, 0.5, 0.25, 2.0, 1.0, 0.167, 1.0],\n",
    "])"
   ]
  },
  {
   "cell_type": "code",
   "execution_count": 3,
   "id": "ff3722ce-fa5a-4d0b-aa64-334c953ee5a6",
   "metadata": {
    "tags": []
   },
   "outputs": [
    {
     "name": "stdout",
     "output_type": "stream",
     "text": [
      "method CI: Outlier is D(6, 4) (one-based). value = 0.142\n"
     ]
    }
   ],
   "source": [
    "method_CI(A)"
   ]
  },
  {
   "cell_type": "code",
   "execution_count": 4,
   "id": "c46d54eb-dc2f-4427-91ac-191a13a81e4e",
   "metadata": {
    "tags": []
   },
   "outputs": [
    {
     "name": "stdout",
     "output_type": "stream",
     "text": [
      "method corr: Outlier is D(4, 6) (one-based). value = 7.0\n"
     ]
    }
   ],
   "source": [
    "method_corr(A)"
   ]
  },
  {
   "cell_type": "code",
   "execution_count": 5,
   "id": "9d3927fc-6559-4781-ae5d-e0d0533f8ab8",
   "metadata": {
    "tags": []
   },
   "outputs": [
    {
     "name": "stdout",
     "output_type": "stream",
     "text": [
      "method chi sq: Outliers are | D(4, 6) value = 7.0 | D(6, 4) value = 0.142 | \n"
     ]
    }
   ],
   "source": [
    "method_chi_sq(A)"
   ]
  },
  {
   "cell_type": "code",
   "execution_count": 6,
   "id": "2d5dc3b2-8883-4e60-9e34-7f79aeffc5ba",
   "metadata": {
    "tags": []
   },
   "outputs": [
    {
     "name": "stdout",
     "output_type": "stream",
     "text": [
      "method Transitive: Outlier is D(6, 4) (one-based). value = 0.142\n"
     ]
    }
   ],
   "source": [
    "method_transitive(A)"
   ]
  },
  {
   "cell_type": "code",
   "execution_count": 7,
   "id": "07f8e41f-f3ae-4b52-80e6-c42611600fe4",
   "metadata": {
    "tags": []
   },
   "outputs": [
    {
     "name": "stdout",
     "output_type": "stream",
     "text": [
      "method M_OutFlow: Outlier is D(4, 6) (one-based). value = 7.0\n"
     ]
    }
   ],
   "source": [
    "method_M_OutFlow(A)"
   ]
  }
 ],
 "metadata": {
  "kernelspec": {
   "display_name": "Python 3 (ipykernel)",
   "language": "python",
   "name": "python3"
  },
  "language_info": {
   "codemirror_mode": {
    "name": "ipython",
    "version": 3
   },
   "file_extension": ".py",
   "mimetype": "text/x-python",
   "name": "python",
   "nbconvert_exporter": "python",
   "pygments_lexer": "ipython3",
   "version": "3.11.5"
  }
 },
 "nbformat": 4,
 "nbformat_minor": 5
}
